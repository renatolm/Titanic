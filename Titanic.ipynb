{
 "cells": [
  {
   "cell_type": "markdown",
   "metadata": {},
   "source": [
    "# Importação de bibliotecas e leitura dos dados"
   ]
  },
  {
   "cell_type": "markdown",
   "metadata": {},
   "source": [
    "Inicialmente vamos importar as bibliotecas que serão utilizadas para a resolução do problema."
   ]
  },
  {
   "cell_type": "code",
   "execution_count": 1,
   "metadata": {},
   "outputs": [],
   "source": [
    "import pandas as pd\n",
    "import numpy as np\n",
    "from sklearn.model_selection import GridSearchCV\n",
    "from sklearn.model_selection import train_test_split\n",
    "from sklearn.tree import DecisionTreeClassifier\n",
    "from sklearn.neighbors import KNeighborsClassifier\n",
    "from sklearn.svm import SVC\n",
    "from sklearn.neural_network import MLPClassifier\n",
    "from sklearn.naive_bayes import GaussianNB\n",
    "from sklearn.ensemble import RandomForestClassifier\n",
    "from sklearn.ensemble import GradientBoostingClassifier\n",
    "from sklearn.ensemble import VotingClassifier\n",
    "from sklearn.ensemble import AdaBoostClassifier"
   ]
  },
  {
   "cell_type": "markdown",
   "metadata": {},
   "source": [
    "Agora podemos realizar a leitura dos conjuntos de dados de treino e teste (já previamente separados neste caso)."
   ]
  },
  {
   "cell_type": "code",
   "execution_count": 2,
   "metadata": {
    "collapsed": true
   },
   "outputs": [],
   "source": [
    "train_data = pd.read_csv(\"data/train.csv\")\n",
    "test_data = pd.read_csv(\"data/test.csv\")"
   ]
  },
  {
   "cell_type": "markdown",
   "metadata": {},
   "source": [
    "Apenas para verificar se a leitura foi executada corretamente, vamos dar uma olhada nas 5 primeiras entradas do dataframe dos dados de treinamento."
   ]
  },
  {
   "cell_type": "code",
   "execution_count": 3,
   "metadata": {},
   "outputs": [
    {
     "data": {
      "text/html": [
       "<div>\n",
       "<style>\n",
       "    .dataframe thead tr:only-child th {\n",
       "        text-align: right;\n",
       "    }\n",
       "\n",
       "    .dataframe thead th {\n",
       "        text-align: left;\n",
       "    }\n",
       "\n",
       "    .dataframe tbody tr th {\n",
       "        vertical-align: top;\n",
       "    }\n",
       "</style>\n",
       "<table border=\"1\" class=\"dataframe\">\n",
       "  <thead>\n",
       "    <tr style=\"text-align: right;\">\n",
       "      <th></th>\n",
       "      <th>PassengerId</th>\n",
       "      <th>Survived</th>\n",
       "      <th>Pclass</th>\n",
       "      <th>Name</th>\n",
       "      <th>Sex</th>\n",
       "      <th>Age</th>\n",
       "      <th>SibSp</th>\n",
       "      <th>Parch</th>\n",
       "      <th>Ticket</th>\n",
       "      <th>Fare</th>\n",
       "      <th>Cabin</th>\n",
       "      <th>Embarked</th>\n",
       "    </tr>\n",
       "  </thead>\n",
       "  <tbody>\n",
       "    <tr>\n",
       "      <th>0</th>\n",
       "      <td>1</td>\n",
       "      <td>0</td>\n",
       "      <td>3</td>\n",
       "      <td>Braund, Mr. Owen Harris</td>\n",
       "      <td>male</td>\n",
       "      <td>22.0</td>\n",
       "      <td>1</td>\n",
       "      <td>0</td>\n",
       "      <td>A/5 21171</td>\n",
       "      <td>7.2500</td>\n",
       "      <td>NaN</td>\n",
       "      <td>S</td>\n",
       "    </tr>\n",
       "    <tr>\n",
       "      <th>1</th>\n",
       "      <td>2</td>\n",
       "      <td>1</td>\n",
       "      <td>1</td>\n",
       "      <td>Cumings, Mrs. John Bradley (Florence Briggs Th...</td>\n",
       "      <td>female</td>\n",
       "      <td>38.0</td>\n",
       "      <td>1</td>\n",
       "      <td>0</td>\n",
       "      <td>PC 17599</td>\n",
       "      <td>71.2833</td>\n",
       "      <td>C85</td>\n",
       "      <td>C</td>\n",
       "    </tr>\n",
       "    <tr>\n",
       "      <th>2</th>\n",
       "      <td>3</td>\n",
       "      <td>1</td>\n",
       "      <td>3</td>\n",
       "      <td>Heikkinen, Miss. Laina</td>\n",
       "      <td>female</td>\n",
       "      <td>26.0</td>\n",
       "      <td>0</td>\n",
       "      <td>0</td>\n",
       "      <td>STON/O2. 3101282</td>\n",
       "      <td>7.9250</td>\n",
       "      <td>NaN</td>\n",
       "      <td>S</td>\n",
       "    </tr>\n",
       "    <tr>\n",
       "      <th>3</th>\n",
       "      <td>4</td>\n",
       "      <td>1</td>\n",
       "      <td>1</td>\n",
       "      <td>Futrelle, Mrs. Jacques Heath (Lily May Peel)</td>\n",
       "      <td>female</td>\n",
       "      <td>35.0</td>\n",
       "      <td>1</td>\n",
       "      <td>0</td>\n",
       "      <td>113803</td>\n",
       "      <td>53.1000</td>\n",
       "      <td>C123</td>\n",
       "      <td>S</td>\n",
       "    </tr>\n",
       "    <tr>\n",
       "      <th>4</th>\n",
       "      <td>5</td>\n",
       "      <td>0</td>\n",
       "      <td>3</td>\n",
       "      <td>Allen, Mr. William Henry</td>\n",
       "      <td>male</td>\n",
       "      <td>35.0</td>\n",
       "      <td>0</td>\n",
       "      <td>0</td>\n",
       "      <td>373450</td>\n",
       "      <td>8.0500</td>\n",
       "      <td>NaN</td>\n",
       "      <td>S</td>\n",
       "    </tr>\n",
       "  </tbody>\n",
       "</table>\n",
       "</div>"
      ],
      "text/plain": [
       "   PassengerId  Survived  Pclass  \\\n",
       "0            1         0       3   \n",
       "1            2         1       1   \n",
       "2            3         1       3   \n",
       "3            4         1       1   \n",
       "4            5         0       3   \n",
       "\n",
       "                                                Name     Sex   Age  SibSp  \\\n",
       "0                            Braund, Mr. Owen Harris    male  22.0      1   \n",
       "1  Cumings, Mrs. John Bradley (Florence Briggs Th...  female  38.0      1   \n",
       "2                             Heikkinen, Miss. Laina  female  26.0      0   \n",
       "3       Futrelle, Mrs. Jacques Heath (Lily May Peel)  female  35.0      1   \n",
       "4                           Allen, Mr. William Henry    male  35.0      0   \n",
       "\n",
       "   Parch            Ticket     Fare Cabin Embarked  \n",
       "0      0         A/5 21171   7.2500   NaN        S  \n",
       "1      0          PC 17599  71.2833   C85        C  \n",
       "2      0  STON/O2. 3101282   7.9250   NaN        S  \n",
       "3      0            113803  53.1000  C123        S  \n",
       "4      0            373450   8.0500   NaN        S  "
      ]
     },
     "execution_count": 3,
     "metadata": {},
     "output_type": "execute_result"
    }
   ],
   "source": [
    "train_data.head()"
   ]
  },
  {
   "cell_type": "markdown",
   "metadata": {},
   "source": [
    "Podemos ver que a leitura foi executada com sucesso.<br>\n",
    "Agora vamos analisar o tamanho dos conjuntos de dados."
   ]
  },
  {
   "cell_type": "code",
   "execution_count": 4,
   "metadata": {},
   "outputs": [
    {
     "name": "stdout",
     "output_type": "stream",
     "text": [
      "(891, 12)\n",
      "(418, 11)\n"
     ]
    }
   ],
   "source": [
    "print(train_data.shape)\n",
    "print(test_data.shape)"
   ]
  },
  {
   "cell_type": "markdown",
   "metadata": {},
   "source": [
    "O conjunto de treinamento parece ter um tamanho razoável para gerar um modelo de classificação.<br>\n",
    "Com isso, podemos passar agora para a análise dos atributos."
   ]
  },
  {
   "cell_type": "markdown",
   "metadata": {},
   "source": [
    "# Análise dos atributos"
   ]
  },
  {
   "cell_type": "markdown",
   "metadata": {},
   "source": [
    "Inicialmente vamos dar uma olhada em quais são os atributos do dataset, juntamente com uma breve descrição de cada um e os valores que podem assumir."
   ]
  },
  {
   "cell_type": "code",
   "execution_count": 5,
   "metadata": {},
   "outputs": [
    {
     "data": {
      "text/plain": [
       "PassengerId      int64\n",
       "Survived         int64\n",
       "Pclass           int64\n",
       "Name            object\n",
       "Sex             object\n",
       "Age            float64\n",
       "SibSp            int64\n",
       "Parch            int64\n",
       "Ticket          object\n",
       "Fare           float64\n",
       "Cabin           object\n",
       "Embarked        object\n",
       "dtype: object"
      ]
     },
     "execution_count": 5,
     "metadata": {},
     "output_type": "execute_result"
    }
   ],
   "source": [
    "train_data.dtypes"
   ]
  },
  {
   "cell_type": "markdown",
   "metadata": {
    "collapsed": true
   },
   "source": [
    "<table style=\"border: 1px solid black\">\n",
    "    <tr style=\"border: 1px solid black\">\n",
    "        <th style=\"border: 1px solid black; text-align: left\">Variável</th>        \n",
    "        <th style=\"border: 1px solid black; text-align: left\">Descrição</th>\n",
    "    </tr>\n",
    "    <tr style=\"border: 1px solid black\">\n",
    "        <td style=\"border: 1px solid black; text-align: left\">PassengerId</td>        \n",
    "        <td style=\"border: 1px solid black; text-align: left\">Identificador do passageiro</td>\n",
    "    </tr>\n",
    "    <tr style=\"border: 1px solid black\">\n",
    "        <td style=\"border: 1px solid black; text-align: left\">Survived</td>        \n",
    "        <td style=\"border: 1px solid black; text-align: left\">Indica se o passageiro sobreviveu (1) ou não (0) ao desastre</td>\n",
    "    </tr>\n",
    "    <tr style=\"border: 1px solid black\">\n",
    "        <td style=\"border: 1px solid black; text-align: left\">Pclass</td>\n",
    "        <td style=\"border: 1px solid black; text-align: left\">Classe na qual o passageiro estava viajando, sendo 1 para primeira; 2 para segunda; e 3 para terceira</td>\n",
    "    </tr>\n",
    "    <tr style=\"border: 1px solid black\">\n",
    "        <td style=\"border: 1px solid black; text-align: left\">Name</td>\n",
    "        <td style=\"border: 1px solid black; text-align: left\">Nome do passageiro</td>\n",
    "    </tr>\n",
    "    <tr style=\"border: 1px solid black\">\n",
    "        <td style=\"border: 1px solid black; text-align: left\">Sex</td>\n",
    "        <td style=\"border: 1px solid black; text-align: left\">Sexo do passageiro</td>\n",
    "    </tr>\n",
    "    <tr style=\"border: 1px solid black\">\n",
    "        <td style=\"border: 1px solid black; text-align: left\">Age</td>\n",
    "        <td style=\"border: 1px solid black; text-align: left\">Idade do passageiro</td>\n",
    "    </tr>\n",
    "    <tr style=\"border: 1px solid black\">\n",
    "        <td style=\"border: 1px solid black; text-align: left\">SibSp</td>\n",
    "        <td style=\"border: 1px solid black; text-align: left\">Quantidade de irmãos e cônjuges a bordo</td>\n",
    "    </tr>\n",
    "    <tr style=\"border: 1px solid black\">\n",
    "        <td style=\"border: 1px solid black; text-align: left\">Parch</td>\n",
    "        <td style=\"border: 1px solid black; text-align: left\">Quantidade de pais e filhos do passageiro a bordo</td>\n",
    "    </tr>\n",
    "    <tr style=\"border: 1px solid black\">\n",
    "        <td style=\"border: 1px solid black; text-align: left\">Ticket</td>\n",
    "        <td style=\"border: 1px solid black; text-align: left\">Número da passagem</td>\n",
    "    </tr>\n",
    "    <tr style=\"border: 1px solid black\">\n",
    "        <td style=\"border: 1px solid black; text-align: left\">Fare</td>\n",
    "        <td style=\"border: 1px solid black; text-align: left\">Preço pago pela passagem</td>\n",
    "    </tr>\n",
    "    <tr style=\"border: 1px solid black\">\n",
    "        <td style=\"border: 1px solid black; text-align: left\">Cabin</td>\n",
    "        <td style=\"border: 1px solid black; text-align: left\">Número da cabine onde o passageiro estava viajando</td>\n",
    "    </tr>\n",
    "    <tr style=\"border: 1px solid black\">\n",
    "        <td style=\"border: 1px solid black; text-align: left\">Embarked</td>\n",
    "        <td style=\"border: 1px solid black; text-align: left\">Porto no qual o passageiro embarcou: C para Cherbourg; Q para Queenstown; e S para Southampton</td>\n",
    "    </tr>\n",
    "</table>"
   ]
  },
  {
   "cell_type": "markdown",
   "metadata": {
    "collapsed": true
   },
   "source": [
    "# Limpeza de atributos irrelevantes"
   ]
  },
  {
   "cell_type": "markdown",
   "metadata": {},
   "source": [
    "Como podemos ver, alguns atributos são claramente irrelevantes para a tarefa de classificação. Portanto, o ideal é que sejam removidos do dataset pois, caso contrário, podem atrapalhar a performance do algoritmo."
   ]
  },
  {
   "cell_type": "markdown",
   "metadata": {},
   "source": [
    "Os atributos citados são:\n",
    "<ul>\n",
    "    <li><b>name</b>: claramente o nome do passageiro não deve influenciar nas suas chances de sobrevivência</li> \n",
    "    <li><b>ticket</b>: o número do bilhete não traz nenhuma informação relevante sobre o passageiro, inclusive pode até ser aleatório</li>\n",
    "    <li><b>cabin</b>: a cabine teoricamente poderia trazer uma informação sobre onde o passageiro poderia estar na hora do acidente, porém esta informação já está de certa forma embutida no atributo <b>Pclass</b></li>\n",
    "</ul>"
   ]
  },
  {
   "cell_type": "markdown",
   "metadata": {},
   "source": [
    "Desta forma, vamos retirar os atributos mencionados dos conjuntos de treino e de teste."
   ]
  },
  {
   "cell_type": "code",
   "execution_count": 6,
   "metadata": {
    "collapsed": true
   },
   "outputs": [],
   "source": [
    "train_data.drop(['Name', 'Ticket', 'Cabin'], axis=1, inplace=True)\n",
    "test_data.drop(['Name', 'Ticket', 'Cabin'], axis=1, inplace=True)"
   ]
  },
  {
   "cell_type": "markdown",
   "metadata": {},
   "source": [
    "Vamos ver se a operação foi realizada com sucesso."
   ]
  },
  {
   "cell_type": "code",
   "execution_count": 7,
   "metadata": {},
   "outputs": [
    {
     "data": {
      "text/html": [
       "<div>\n",
       "<style>\n",
       "    .dataframe thead tr:only-child th {\n",
       "        text-align: right;\n",
       "    }\n",
       "\n",
       "    .dataframe thead th {\n",
       "        text-align: left;\n",
       "    }\n",
       "\n",
       "    .dataframe tbody tr th {\n",
       "        vertical-align: top;\n",
       "    }\n",
       "</style>\n",
       "<table border=\"1\" class=\"dataframe\">\n",
       "  <thead>\n",
       "    <tr style=\"text-align: right;\">\n",
       "      <th></th>\n",
       "      <th>PassengerId</th>\n",
       "      <th>Survived</th>\n",
       "      <th>Pclass</th>\n",
       "      <th>Sex</th>\n",
       "      <th>Age</th>\n",
       "      <th>SibSp</th>\n",
       "      <th>Parch</th>\n",
       "      <th>Fare</th>\n",
       "      <th>Embarked</th>\n",
       "    </tr>\n",
       "  </thead>\n",
       "  <tbody>\n",
       "    <tr>\n",
       "      <th>0</th>\n",
       "      <td>1</td>\n",
       "      <td>0</td>\n",
       "      <td>3</td>\n",
       "      <td>male</td>\n",
       "      <td>22.0</td>\n",
       "      <td>1</td>\n",
       "      <td>0</td>\n",
       "      <td>7.2500</td>\n",
       "      <td>S</td>\n",
       "    </tr>\n",
       "    <tr>\n",
       "      <th>1</th>\n",
       "      <td>2</td>\n",
       "      <td>1</td>\n",
       "      <td>1</td>\n",
       "      <td>female</td>\n",
       "      <td>38.0</td>\n",
       "      <td>1</td>\n",
       "      <td>0</td>\n",
       "      <td>71.2833</td>\n",
       "      <td>C</td>\n",
       "    </tr>\n",
       "    <tr>\n",
       "      <th>2</th>\n",
       "      <td>3</td>\n",
       "      <td>1</td>\n",
       "      <td>3</td>\n",
       "      <td>female</td>\n",
       "      <td>26.0</td>\n",
       "      <td>0</td>\n",
       "      <td>0</td>\n",
       "      <td>7.9250</td>\n",
       "      <td>S</td>\n",
       "    </tr>\n",
       "    <tr>\n",
       "      <th>3</th>\n",
       "      <td>4</td>\n",
       "      <td>1</td>\n",
       "      <td>1</td>\n",
       "      <td>female</td>\n",
       "      <td>35.0</td>\n",
       "      <td>1</td>\n",
       "      <td>0</td>\n",
       "      <td>53.1000</td>\n",
       "      <td>S</td>\n",
       "    </tr>\n",
       "    <tr>\n",
       "      <th>4</th>\n",
       "      <td>5</td>\n",
       "      <td>0</td>\n",
       "      <td>3</td>\n",
       "      <td>male</td>\n",
       "      <td>35.0</td>\n",
       "      <td>0</td>\n",
       "      <td>0</td>\n",
       "      <td>8.0500</td>\n",
       "      <td>S</td>\n",
       "    </tr>\n",
       "  </tbody>\n",
       "</table>\n",
       "</div>"
      ],
      "text/plain": [
       "   PassengerId  Survived  Pclass     Sex   Age  SibSp  Parch     Fare Embarked\n",
       "0            1         0       3    male  22.0      1      0   7.2500        S\n",
       "1            2         1       1  female  38.0      1      0  71.2833        C\n",
       "2            3         1       3  female  26.0      0      0   7.9250        S\n",
       "3            4         1       1  female  35.0      1      0  53.1000        S\n",
       "4            5         0       3    male  35.0      0      0   8.0500        S"
      ]
     },
     "execution_count": 7,
     "metadata": {},
     "output_type": "execute_result"
    }
   ],
   "source": [
    "train_data.head()"
   ]
  },
  {
   "cell_type": "markdown",
   "metadata": {},
   "source": [
    "Tudo certo! Podemos agora seguir para a próxima etapa da preparação dos dados."
   ]
  },
  {
   "cell_type": "markdown",
   "metadata": {},
   "source": [
    "# Verificação de dados faltantes"
   ]
  },
  {
   "cell_type": "markdown",
   "metadata": {},
   "source": [
    "Com um comando do framework pandas podemos analisar quais atributos possuem valores faltantes e quantos são.<br>\n",
    "Esta análise permite tomar uma decisão mais acertada sobre o que fazer em relação a esses dados."
   ]
  },
  {
   "cell_type": "code",
   "execution_count": 8,
   "metadata": {},
   "outputs": [
    {
     "data": {
      "text/plain": [
       "PassengerId      0\n",
       "Survived         0\n",
       "Pclass           0\n",
       "Sex              0\n",
       "Age            177\n",
       "SibSp            0\n",
       "Parch            0\n",
       "Fare             0\n",
       "Embarked         2\n",
       "dtype: int64"
      ]
     },
     "execution_count": 8,
     "metadata": {},
     "output_type": "execute_result"
    }
   ],
   "source": [
    "train_data.isnull().sum()"
   ]
  },
  {
   "cell_type": "code",
   "execution_count": 9,
   "metadata": {},
   "outputs": [
    {
     "data": {
      "text/plain": [
       "28.343689655172415"
      ]
     },
     "execution_count": 9,
     "metadata": {},
     "output_type": "execute_result"
    }
   ],
   "source": [
    "train_data[train_data['Survived'] == 1]['Age'].mean()"
   ]
  },
  {
   "cell_type": "code",
   "execution_count": 10,
   "metadata": {},
   "outputs": [
    {
     "data": {
      "text/plain": [
       "PassengerId     0\n",
       "Pclass          0\n",
       "Sex             0\n",
       "Age            86\n",
       "SibSp           0\n",
       "Parch           0\n",
       "Fare            1\n",
       "Embarked        0\n",
       "dtype: int64"
      ]
     },
     "execution_count": 10,
     "metadata": {},
     "output_type": "execute_result"
    }
   ],
   "source": [
    "test_data.isnull().sum()"
   ]
  },
  {
   "cell_type": "markdown",
   "metadata": {},
   "source": [
    "Como podemos ver, os atributos com valores faltantes são <b>Age</b>, <b>Embarked</b> e <b>Fare</b>."
   ]
  },
  {
   "cell_type": "markdown",
   "metadata": {},
   "source": [
    "O atributo <b>Age</b> merece uma atenção especial pois possui uma quantidade considerável de valores faltantes e é muito importante para a classificação, haja vista que o procedimento padrão em situação de evacuação é priorizar mulheres e crianças."
   ]
  },
  {
   "cell_type": "markdown",
   "metadata": {},
   "source": [
    "Neste caso, vamos adotar uma estratégia bastante simples inicialmente, que é imputar os valores faltantes apenas com a média das idades dos passageiros."
   ]
  },
  {
   "cell_type": "code",
   "execution_count": 11,
   "metadata": {
    "collapsed": true
   },
   "outputs": [],
   "source": [
    "train_data['Age'].fillna(train_data['Age'].mean(), inplace=True)\n",
    "test_data['Age'].fillna(test_data['Age'].mean(), inplace=True)"
   ]
  },
  {
   "cell_type": "markdown",
   "metadata": {},
   "source": [
    "Agora precisamos decidir o que fazer em relação ao atributo <b>Embarked</b>."
   ]
  },
  {
   "cell_type": "markdown",
   "metadata": {},
   "source": [
    "Diferentemente do atributo <b>Age</b>, este atributo teoricamente deve ter uma influência menor na classificação e além disso o número de valores faltantes é muito baixo, apenas 2."
   ]
  },
  {
   "cell_type": "markdown",
   "metadata": {},
   "source": [
    "Sendo assim, uma estratégia interessante para preencher esses valores seria simplesmente colocar um valor aleatoriamente escolhido entre os possíveis 'C', 'Q' e 'S'."
   ]
  },
  {
   "cell_type": "code",
   "execution_count": 12,
   "metadata": {
    "collapsed": true
   },
   "outputs": [],
   "source": [
    "fill_list = ['C', 'Q', 'S']\n",
    "train_data['Embarked'].fillna(pd.Series(np.random.choice(fill_list, size=len(train_data.index))), inplace=True)"
   ]
  },
  {
   "cell_type": "markdown",
   "metadata": {},
   "source": [
    "Por fim, precisamos decidir o que fazer com o atributo <b>Fare</b>."
   ]
  },
  {
   "cell_type": "markdown",
   "metadata": {},
   "source": [
    "Semelhante ao <b>Embarked</b>, este atributo não deve ter tanta influência na classificação e a informação que ele traz já está de certa forma contida na classe em que o passageiro viajava. E mais uma vez o número de valores faltantes é bem pequeno, apenas 1 no conjunto de teste."
   ]
  },
  {
   "cell_type": "markdown",
   "metadata": {},
   "source": [
    "Porém, não é possível escolher o valor aleatoriamente de uma lista como foi feito com <b>Embarked</b>. Portanto, vamos adotar a novamente de imputar o valor faltante com a média dos outros valores do conjunto de teste."
   ]
  },
  {
   "cell_type": "code",
   "execution_count": 13,
   "metadata": {
    "collapsed": true
   },
   "outputs": [],
   "source": [
    "test_data['Fare'].fillna(test_data['Fare'].mean(), inplace=True)"
   ]
  },
  {
   "cell_type": "markdown",
   "metadata": {},
   "source": [
    "# Encoding dos atributos categóricos"
   ]
  },
  {
   "cell_type": "markdown",
   "metadata": {},
   "source": [
    "Como próximo passo, vamos fazer o encoding dos atributos categóricos para transformá-los em dados numéricos. Esta transformação é necessária para deixar o conjunto de dados em formato aceitável para todos os algoritmos de classificação que serão utilizados nesta análise."
   ]
  },
  {
   "cell_type": "markdown",
   "metadata": {},
   "source": [
    "Primeiramente vamos relembrar quais são os atributos categóricos que queremos transformar."
   ]
  },
  {
   "cell_type": "code",
   "execution_count": 14,
   "metadata": {},
   "outputs": [
    {
     "data": {
      "text/plain": [
       "PassengerId      int64\n",
       "Survived         int64\n",
       "Pclass           int64\n",
       "Sex             object\n",
       "Age            float64\n",
       "SibSp            int64\n",
       "Parch            int64\n",
       "Fare           float64\n",
       "Embarked        object\n",
       "dtype: object"
      ]
     },
     "execution_count": 14,
     "metadata": {},
     "output_type": "execute_result"
    }
   ],
   "source": [
    "train_data.dtypes"
   ]
  },
  {
   "cell_type": "markdown",
   "metadata": {},
   "source": [
    "Portanto, os atributos que queremos fazer o encoding são <b>Sex</b> e <b>Embarked</b>."
   ]
  },
  {
   "cell_type": "markdown",
   "metadata": {},
   "source": [
    "Como o número de dimensões do nosso dataset é bem baixo, a melhor estratégia sem dúvida é usar o One Hot Encoding. Esta técnica divide o atributo categórico em novas colunas (uma para cada um dos possíveis valores) e preenche os valores com 0 ou 1."
   ]
  },
  {
   "cell_type": "markdown",
   "metadata": {},
   "source": [
    "Vejamos como fica a aplicação do One Hot Encoding ao nosso dataset."
   ]
  },
  {
   "cell_type": "code",
   "execution_count": 15,
   "metadata": {
    "collapsed": true
   },
   "outputs": [],
   "source": [
    "train_data = pd.get_dummies(train_data)\n",
    "test_data = pd.get_dummies(test_data)"
   ]
  },
  {
   "cell_type": "code",
   "execution_count": 16,
   "metadata": {},
   "outputs": [
    {
     "data": {
      "text/html": [
       "<div>\n",
       "<style>\n",
       "    .dataframe thead tr:only-child th {\n",
       "        text-align: right;\n",
       "    }\n",
       "\n",
       "    .dataframe thead th {\n",
       "        text-align: left;\n",
       "    }\n",
       "\n",
       "    .dataframe tbody tr th {\n",
       "        vertical-align: top;\n",
       "    }\n",
       "</style>\n",
       "<table border=\"1\" class=\"dataframe\">\n",
       "  <thead>\n",
       "    <tr style=\"text-align: right;\">\n",
       "      <th></th>\n",
       "      <th>PassengerId</th>\n",
       "      <th>Survived</th>\n",
       "      <th>Pclass</th>\n",
       "      <th>Age</th>\n",
       "      <th>SibSp</th>\n",
       "      <th>Parch</th>\n",
       "      <th>Fare</th>\n",
       "      <th>Sex_female</th>\n",
       "      <th>Sex_male</th>\n",
       "      <th>Embarked_C</th>\n",
       "      <th>Embarked_Q</th>\n",
       "      <th>Embarked_S</th>\n",
       "    </tr>\n",
       "  </thead>\n",
       "  <tbody>\n",
       "    <tr>\n",
       "      <th>0</th>\n",
       "      <td>1</td>\n",
       "      <td>0</td>\n",
       "      <td>3</td>\n",
       "      <td>22.0</td>\n",
       "      <td>1</td>\n",
       "      <td>0</td>\n",
       "      <td>7.2500</td>\n",
       "      <td>0</td>\n",
       "      <td>1</td>\n",
       "      <td>0</td>\n",
       "      <td>0</td>\n",
       "      <td>1</td>\n",
       "    </tr>\n",
       "    <tr>\n",
       "      <th>1</th>\n",
       "      <td>2</td>\n",
       "      <td>1</td>\n",
       "      <td>1</td>\n",
       "      <td>38.0</td>\n",
       "      <td>1</td>\n",
       "      <td>0</td>\n",
       "      <td>71.2833</td>\n",
       "      <td>1</td>\n",
       "      <td>0</td>\n",
       "      <td>1</td>\n",
       "      <td>0</td>\n",
       "      <td>0</td>\n",
       "    </tr>\n",
       "    <tr>\n",
       "      <th>2</th>\n",
       "      <td>3</td>\n",
       "      <td>1</td>\n",
       "      <td>3</td>\n",
       "      <td>26.0</td>\n",
       "      <td>0</td>\n",
       "      <td>0</td>\n",
       "      <td>7.9250</td>\n",
       "      <td>1</td>\n",
       "      <td>0</td>\n",
       "      <td>0</td>\n",
       "      <td>0</td>\n",
       "      <td>1</td>\n",
       "    </tr>\n",
       "    <tr>\n",
       "      <th>3</th>\n",
       "      <td>4</td>\n",
       "      <td>1</td>\n",
       "      <td>1</td>\n",
       "      <td>35.0</td>\n",
       "      <td>1</td>\n",
       "      <td>0</td>\n",
       "      <td>53.1000</td>\n",
       "      <td>1</td>\n",
       "      <td>0</td>\n",
       "      <td>0</td>\n",
       "      <td>0</td>\n",
       "      <td>1</td>\n",
       "    </tr>\n",
       "    <tr>\n",
       "      <th>4</th>\n",
       "      <td>5</td>\n",
       "      <td>0</td>\n",
       "      <td>3</td>\n",
       "      <td>35.0</td>\n",
       "      <td>0</td>\n",
       "      <td>0</td>\n",
       "      <td>8.0500</td>\n",
       "      <td>0</td>\n",
       "      <td>1</td>\n",
       "      <td>0</td>\n",
       "      <td>0</td>\n",
       "      <td>1</td>\n",
       "    </tr>\n",
       "  </tbody>\n",
       "</table>\n",
       "</div>"
      ],
      "text/plain": [
       "   PassengerId  Survived  Pclass   Age  SibSp  Parch     Fare  Sex_female  \\\n",
       "0            1         0       3  22.0      1      0   7.2500           0   \n",
       "1            2         1       1  38.0      1      0  71.2833           1   \n",
       "2            3         1       3  26.0      0      0   7.9250           1   \n",
       "3            4         1       1  35.0      1      0  53.1000           1   \n",
       "4            5         0       3  35.0      0      0   8.0500           0   \n",
       "\n",
       "   Sex_male  Embarked_C  Embarked_Q  Embarked_S  \n",
       "0         1           0           0           1  \n",
       "1         0           1           0           0  \n",
       "2         0           0           0           1  \n",
       "3         0           0           0           1  \n",
       "4         1           0           0           1  "
      ]
     },
     "execution_count": 16,
     "metadata": {},
     "output_type": "execute_result"
    }
   ],
   "source": [
    "train_data.head()"
   ]
  },
  {
   "cell_type": "markdown",
   "metadata": {},
   "source": [
    "Como podemos ver, o atributo <b>Sex</b> foi dividido em <b>Sex_female</b> e <b>Sex_male</b>; enquanto que o atributo <b>Embarked</b> foi dividido em <b>Embarked_C</b>, <b>Embarked_Q</b> e <b>Embarked_S</b>."
   ]
  },
  {
   "cell_type": "markdown",
   "metadata": {},
   "source": [
    "Finalmente nosso dataset está pronto para a aplicação dos algoritmos de classificação."
   ]
  },
  {
   "cell_type": "markdown",
   "metadata": {},
   "source": [
    "# Algoritmos de classificação"
   ]
  },
  {
   "cell_type": "markdown",
   "metadata": {},
   "source": [
    "Antes de aplicarmos os algoritmos, precisamos ressaltar alguns pontos:\n",
    "<ul>\n",
    "    <li>Em todos os algoritmos será aplicada a técnica de Cross-Validation para obter o score final</li>\n",
    "    <li>O score será calculado sobre o conjunto train_data tratado anteriormente</li>\n",
    "    <li>O algoritmo que obtiver o maior score no conjunto train_data será aplicado ao conjunto test_data para obter a solução final a ser submetida ao Kaggle</li>\n",
    "    <li>Em todos os algoritmos será feito um Grid Search para obter os melhores hiperparâmetros</li>\n",
    "</ul>"
   ]
  },
  {
   "cell_type": "code",
   "execution_count": 17,
   "metadata": {
    "collapsed": true
   },
   "outputs": [],
   "source": [
    "#train_data_X = train_data.loc[:, train_data.columns != 'Survived' and train_data.columns !='PassengerId'].values\n",
    "train_data_X = train_data.drop(['Survived', 'PassengerId'], axis=1).values\n",
    "#train_data_y = train_data.loc[:, train_data.columns == 'Survived'].values\n",
    "train_data_y = train_data['Survived'].values"
   ]
  },
  {
   "cell_type": "markdown",
   "metadata": {},
   "source": [
    "## Algoritmo #1: Árvores de decisão"
   ]
  },
  {
   "cell_type": "code",
   "execution_count": 18,
   "metadata": {},
   "outputs": [
    {
     "name": "stdout",
     "output_type": "stream",
     "text": [
      "A acurácia média da Árvore de Decisão é: 0.81\n"
     ]
    }
   ],
   "source": [
    "tree_parameters = {'max_depth':[3,5,7,10]}\n",
    "\n",
    "acc_tree = 0\n",
    "\n",
    "for i in range(0,5):\n",
    "    X_train, X_test, y_train, y_test = train_test_split(train_data_X, train_data_y, test_size=0.4)    \n",
    "\n",
    "    grid_tree = GridSearchCV(DecisionTreeClassifier(), tree_parameters, cv=3)\n",
    "    grid_tree.fit(X_train, y_train.ravel())\n",
    "\n",
    "    tree = DecisionTreeClassifier(max_depth=grid_tree.best_params_['max_depth'])\n",
    "    tree.fit(X_train, y_train.ravel())\n",
    "\n",
    "    acc_tree = acc_tree + tree.score(X_test, y_test)\n",
    "\n",
    "acc_tree = acc_tree / 5\n",
    "\n",
    "print(\"A acurácia média da Árvore de Decisão é: %0.2f\" % (acc_tree))"
   ]
  },
  {
   "cell_type": "markdown",
   "metadata": {},
   "source": [
    "## Algoritmo #2: KNN (K-vizinhos mais próximos)"
   ]
  },
  {
   "cell_type": "code",
   "execution_count": 19,
   "metadata": {},
   "outputs": [
    {
     "name": "stdout",
     "output_type": "stream",
     "text": [
      "A acurácia média do KNN é: 0.69\n"
     ]
    }
   ],
   "source": [
    "knn_parameters = {'n_neighbors':[1,5,11,15,21,25]}\n",
    "\n",
    "acc_knn = 0\n",
    "\n",
    "for i in range(0,5):\n",
    "    X_train, X_test, y_train, y_test = train_test_split(train_data_X, train_data_y, test_size=0.4)    \n",
    "\n",
    "    grid_knn = GridSearchCV(KNeighborsClassifier(), knn_parameters, cv=3)\n",
    "    grid_knn.fit(X_train, y_train.ravel())\n",
    "\n",
    "    knn = KNeighborsClassifier(n_neighbors=grid_knn.best_params_['n_neighbors'])\n",
    "    knn.fit(X_train, y_train.ravel())\n",
    "\n",
    "    acc_knn = acc_knn + knn.score(X_test, y_test)\n",
    "\n",
    "acc_knn = acc_knn / 5\n",
    "\n",
    "print(\"A acurácia média do KNN é: %0.2f\" % (acc_knn))"
   ]
  },
  {
   "cell_type": "markdown",
   "metadata": {},
   "source": [
    "## Algoritmo #3: SVM (Support Vector Machine)"
   ]
  },
  {
   "cell_type": "code",
   "execution_count": 20,
   "metadata": {},
   "outputs": [
    {
     "name": "stdout",
     "output_type": "stream",
     "text": [
      "A acurácia média do SVM é: 0.79\n"
     ]
    }
   ],
   "source": [
    "svm_parameters = {'C':[2**(-5), 2**(0), 2**(5), 2**(10)],\n",
    " 'gamma':[2**(-15), 2**(-10), 2**(-5), 2**(0), 2**(5)]}\n",
    "\n",
    "acc_svm = 0\n",
    "\n",
    "for i in range(0,5):\n",
    "    X_train, X_test, y_train, y_test = train_test_split(train_data_X, train_data_y, test_size=0.4)    \n",
    "\n",
    "    grid_svm = GridSearchCV(SVC(kernel='rbf'), svm_parameters, cv=3)\n",
    "    grid_svm.fit(X_train, y_train.ravel())\n",
    "\n",
    "    svm = SVC(C=grid_svm.best_params_['C'], gamma=grid_svm.best_params_['gamma'], kernel='rbf')\n",
    "    svm.fit(X_train, y_train.ravel())\n",
    "\n",
    "    acc_svm = acc_svm + svm.score(X_test, y_test)\n",
    "\n",
    "acc_svm = acc_svm / 5\n",
    "\n",
    "print(\"A acurácia média do SVM é: %0.2f\" % (acc_svm))"
   ]
  },
  {
   "cell_type": "markdown",
   "metadata": {},
   "source": [
    "## Algoritmo #4: Redes Neurais"
   ]
  },
  {
   "cell_type": "code",
   "execution_count": 21,
   "metadata": {},
   "outputs": [
    {
     "name": "stdout",
     "output_type": "stream",
     "text": [
      "A acurácia média da Rede Neural é: 0.81\n"
     ]
    }
   ],
   "source": [
    "nn_parameters = {'hidden_layer_sizes':[5,10,20]}\n",
    "\n",
    "acc_nn = 0\n",
    "\n",
    "for i in range(0,5):\n",
    "    X_train, X_test, y_train, y_test = train_test_split(train_data_X, train_data_y, test_size=0.4)    \n",
    "\n",
    "    grid_nn = GridSearchCV(MLPClassifier(solver='lbfgs'), nn_parameters, cv=3)\n",
    "    grid_nn.fit(X_train, y_train.ravel())\n",
    "    \n",
    "    nnet = MLPClassifier(hidden_layer_sizes=grid_nn.best_params_['hidden_layer_sizes'], solver='lbfgs')\n",
    "    nnet.fit(X_train, y_train.ravel())\n",
    "\n",
    "    acc_nn = acc_nn + nnet.score(X_test, y_test)\n",
    "\n",
    "acc_nn = acc_nn / 5\n",
    "\n",
    "print(\"A acurácia média da Rede Neural é: %0.2f\" % (acc_nn))"
   ]
  },
  {
   "cell_type": "markdown",
   "metadata": {},
   "source": [
    "## Algoritmo #5: Naive Bayes"
   ]
  },
  {
   "cell_type": "code",
   "execution_count": 22,
   "metadata": {},
   "outputs": [
    {
     "name": "stdout",
     "output_type": "stream",
     "text": [
      "A acurácia média do Naive Bayes é: 0.78\n"
     ]
    }
   ],
   "source": [
    "acc_nb = 0\n",
    "\n",
    "for i in range(0,5):\n",
    "    X_train, X_test, y_train, y_test = train_test_split(train_data_X, train_data_y, test_size=0.4)    \n",
    "\n",
    "    #grid_nn = GridSearchCVGaussian, nn_parameters, cv=3)\n",
    "    #grid_nn.fit(X_train, y_train.ravel())\n",
    "    \n",
    "    nb = GaussianNB()\n",
    "    nb.fit(X_train, y_train.ravel())\n",
    "\n",
    "    acc_nb = acc_nb + nb.score(X_test, y_test)\n",
    "\n",
    "acc_nb = acc_nb / 5\n",
    "\n",
    "print(\"A acurácia média do Naive Bayes é: %0.2f\" % (acc_nb))"
   ]
  },
  {
   "cell_type": "markdown",
   "metadata": {},
   "source": [
    "## Algoritmo #6: Random Forest"
   ]
  },
  {
   "cell_type": "code",
   "execution_count": 23,
   "metadata": {},
   "outputs": [
    {
     "name": "stdout",
     "output_type": "stream",
     "text": [
      "A acurácia média do Random Forest é: 0.80\n"
     ]
    }
   ],
   "source": [
    "rf_parameters = {'max_features':[2,5,9,10],'n_estimators':[10,50,100,200]}\n",
    "\n",
    "acc_rf = 0\n",
    "\n",
    "for i in range(0,5):\n",
    "    X_train, X_test, y_train, y_test = train_test_split(train_data_X, train_data_y, test_size=0.4)    \n",
    "\n",
    "    grid_rf = GridSearchCV(RandomForestClassifier(), rf_parameters, cv=3)\n",
    "    grid_rf.fit(X_train, y_train.ravel())\n",
    "        \n",
    "    rf = RandomForestClassifier(max_features=grid_rf.best_params_['max_features'], n_estimators=grid_rf.best_params_['n_estimators'])\n",
    "    rf.fit(X_train, y_train.ravel())\n",
    "\n",
    "    acc_rf = acc_rf + rf.score(X_test, y_test)\n",
    "\n",
    "acc_rf = acc_rf / 5\n",
    "\n",
    "print(\"A acurácia média do Random Forest é: %0.2f\" % (acc_rf))"
   ]
  },
  {
   "cell_type": "markdown",
   "metadata": {},
   "source": [
    "## Algoritmo #7: GBM (Gradient Boosting Machine)"
   ]
  },
  {
   "cell_type": "code",
   "execution_count": 24,
   "metadata": {},
   "outputs": [
    {
     "name": "stdout",
     "output_type": "stream",
     "text": [
      "A acurácia média do Gradient Boosting Machine é: 0.81\n"
     ]
    }
   ],
   "source": [
    "gbm_parameters = {'n_estimators':[5,10,30,70],'learning_rate':[0.1,0.05],'max_depth':[3,5,7]}\n",
    "\n",
    "acc_gbm = 0\n",
    "\n",
    "for i in range(0,5):\n",
    "    X_train, X_test, y_train, y_test = train_test_split(train_data_X, train_data_y, test_size=0.4)    \n",
    "\n",
    "    grid_gbm = GridSearchCV(GradientBoostingClassifier(), gbm_parameters, cv=3)\n",
    "    grid_gbm.fit(X_train, y_train.ravel())\n",
    "            \n",
    "    gbm = GradientBoostingClassifier(n_estimators=grid_gbm.best_params_['n_estimators'],\n",
    "     learning_rate=grid_gbm.best_params_['learning_rate'], max_depth=grid_gbm.best_params_['max_depth'])\n",
    "    gbm.fit(X_train, y_train.ravel())\n",
    "\n",
    "    acc_gbm = acc_gbm + gbm.score(X_test, y_test)\n",
    "\n",
    "acc_gbm = acc_gbm / 5\n",
    "\n",
    "print(\"A acurácia média do Gradient Boosting Machine é: %0.2f\" % (acc_gbm))"
   ]
  },
  {
   "cell_type": "markdown",
   "metadata": {},
   "source": [
    "## Algoritmo #8: AdaBoost"
   ]
  },
  {
   "cell_type": "code",
   "execution_count": 25,
   "metadata": {},
   "outputs": [
    {
     "name": "stdout",
     "output_type": "stream",
     "text": [
      "A acurácia média do AdaBoost é: 0.82\n"
     ]
    }
   ],
   "source": [
    "ada_parameters = {'n_estimators':[5,10,30,70],'learning_rate':[0.1,0.05]}\n",
    "\n",
    "acc_ada = 0\n",
    "\n",
    "for i in range(0,5):\n",
    "    X_train, X_test, y_train, y_test = train_test_split(train_data_X, train_data_y, test_size=0.4)    \n",
    "\n",
    "    grid_ada = GridSearchCV(AdaBoostClassifier(), ada_parameters, cv=3)\n",
    "    grid_ada.fit(X_train, y_train.ravel())\n",
    "            \n",
    "    ada = AdaBoostClassifier(n_estimators=grid_ada.best_params_['n_estimators'],\n",
    "     learning_rate=grid_ada.best_params_['learning_rate'])\n",
    "    ada.fit(X_train, y_train.ravel())\n",
    "\n",
    "    acc_ada = acc_ada + ada.score(X_test, y_test)\n",
    "\n",
    "acc_ada = acc_ada / 5\n",
    "\n",
    "print(\"A acurácia média do AdaBoost é: %0.2f\" % (acc_ada))"
   ]
  },
  {
   "cell_type": "markdown",
   "metadata": {},
   "source": [
    "# Aplicação de uma técnica de ensemble"
   ]
  },
  {
   "cell_type": "markdown",
   "metadata": {},
   "source": [
    "Agora vamos aplicar uma técnica de ensemble conhecida como Soft Majority Voting, em que combinaremos 5 classificadores  com pesos definidos de acordo com as acurácias previamente obtidas."
   ]
  },
  {
   "cell_type": "code",
   "execution_count": 26,
   "metadata": {},
   "outputs": [
    {
     "name": "stdout",
     "output_type": "stream",
     "text": [
      "A acurácia média do ensemble Soft Majority Voting é: 0.82\n"
     ]
    }
   ],
   "source": [
    "acc_vote = 0\n",
    "\n",
    "for i in range(0,5):\n",
    "    X_train, X_test, y_train, y_test = train_test_split(train_data_X, train_data_y, test_size=0.4) \n",
    "    \n",
    "    tree = DecisionTreeClassifier(max_depth=grid_tree.best_params_['max_depth'])\n",
    "    tree.fit(X_train, y_train.ravel())\n",
    "    \n",
    "    knn = KNeighborsClassifier(n_neighbors=grid_knn.best_params_['n_neighbors'])\n",
    "    knn.fit(X_train, y_train.ravel())\n",
    "\n",
    "    svm = SVC(C=grid_svm.best_params_['C'], gamma=grid_svm.best_params_['gamma'], kernel='rbf', probability=True)\n",
    "    svm.fit(X_train, y_train.ravel())\n",
    "    \n",
    "    nnet = MLPClassifier(hidden_layer_sizes=grid_nn.best_params_['hidden_layer_sizes'], solver='lbfgs')\n",
    "    nnet.fit(X_train, y_train.ravel())\n",
    "    \n",
    "    nb = GaussianNB()\n",
    "    nb.fit(X_train, y_train.ravel())\n",
    "    \n",
    "    vote = VotingClassifier(estimators=[('dt', tree), ('knn', knn), ('svm', svm), ('nnet', nnet), ('nb', nb)], voting='soft', weights=[3,1,2,2,2])    \n",
    "    vote.fit(X_train, y_train.ravel())\n",
    "    \n",
    "    acc_vote = acc_vote + vote.score(X_test, y_test)\n",
    "\n",
    "acc_vote = acc_vote / 5\n",
    "\n",
    "print(\"A acurácia média do ensemble Soft Majority Voting é: %0.2f\" % (acc_vote))"
   ]
  },
  {
   "cell_type": "markdown",
   "metadata": {},
   "source": [
    "# Preparação do arquivo de submissão para o Kaggle"
   ]
  },
  {
   "cell_type": "markdown",
   "metadata": {},
   "source": [
    "Como vimos, a Árvore de Decisão foi o algoritmo com o melhor desempenho em uma validação cruzada, portanto será o algoritmo utilizado para a previsão final, com os melhores hiperparâmetros definidos pelo GridSearch."
   ]
  },
  {
   "cell_type": "markdown",
   "metadata": {},
   "source": [
    "Primeiramente, vamos fazer um novo treinamento do algoritmo mas agora utilizando todo o conjunto de treinamento."
   ]
  },
  {
   "cell_type": "code",
   "execution_count": 27,
   "metadata": {},
   "outputs": [
    {
     "data": {
      "text/plain": [
       "DecisionTreeClassifier(class_weight=None, criterion='gini', max_depth=3,\n",
       "            max_features=None, max_leaf_nodes=None,\n",
       "            min_impurity_decrease=0.0, min_impurity_split=None,\n",
       "            min_samples_leaf=1, min_samples_split=2,\n",
       "            min_weight_fraction_leaf=0.0, presort=False, random_state=None,\n",
       "            splitter='best')"
      ]
     },
     "execution_count": 27,
     "metadata": {},
     "output_type": "execute_result"
    }
   ],
   "source": [
    "#gbm = GradientBoostingClassifier(n_estimators=grid_gbm.best_params_['n_estimators'],\n",
    "#     learning_rate=grid_gbm.best_params_['learning_rate'], max_depth=grid_gbm.best_params_['max_depth'])\n",
    "#gbm.fit(train_data_X, train_data_y.ravel())\n",
    "\n",
    "tree = DecisionTreeClassifier(max_depth=grid_tree.best_params_['max_depth'])\n",
    "tree.fit(train_data_X, train_data_y.ravel())"
   ]
  },
  {
   "cell_type": "markdown",
   "metadata": {},
   "source": [
    "Agora vamos criar um novo dataframe do Pandas no formato em que os dados devem ser submetidos ao Kaggle."
   ]
  },
  {
   "cell_type": "code",
   "execution_count": 28,
   "metadata": {
    "collapsed": true
   },
   "outputs": [],
   "source": [
    "submission = pd.DataFrame()\n",
    "submission['PassengerId'] = test_data['PassengerId']\n",
    "submission['Survived'] = gbm.predict(test_data.drop(['PassengerId'], axis=1).values)"
   ]
  },
  {
   "cell_type": "markdown",
   "metadata": {},
   "source": [
    "Por fim, basta escrever o resultado em um arquivo csv que já estará pronto para a submissão."
   ]
  },
  {
   "cell_type": "code",
   "execution_count": 29,
   "metadata": {
    "collapsed": true
   },
   "outputs": [],
   "source": [
    "submission.to_csv('submission.csv', index=False)"
   ]
  },
  {
   "cell_type": "code",
   "execution_count": null,
   "metadata": {
    "collapsed": true
   },
   "outputs": [],
   "source": []
  }
 ],
 "metadata": {
  "kernelspec": {
   "display_name": "Python 3",
   "language": "python",
   "name": "python3"
  },
  "language_info": {
   "codemirror_mode": {
    "name": "ipython",
    "version": 3
   },
   "file_extension": ".py",
   "mimetype": "text/x-python",
   "name": "python",
   "nbconvert_exporter": "python",
   "pygments_lexer": "ipython3",
   "version": "3.6.1"
  }
 },
 "nbformat": 4,
 "nbformat_minor": 2
}
